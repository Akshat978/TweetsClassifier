{
  "nbformat": 4,
  "nbformat_minor": 0,
  "metadata": {
    "colab": {
      "name": "TweetsClassifier.ipynb",
      "provenance": [],
      "collapsed_sections": []
    },
    "kernelspec": {
      "name": "python3",
      "display_name": "Python 3"
    }
  },
  "cells": [
    {
      "cell_type": "code",
      "metadata": {
        "id": "MUChmQyTFR5V"
      },
      "source": [
        "import pandas as pd\n",
        "from sklearn.model_selection import train_test_split\n",
        "from sklearn.feature_extraction.text import CountVectorizer \n",
        "from sklearn.metrics import accuracy_score\n",
        "from sklearn.naive_bayes import MultinomialNB \n",
        "import os\n",
        "\n",
        "\n",
        "\n",
        "df= pd.read_csv(\"Imran_and_modiforworkshop.csv\")\n",
        "df=df.dropna()\n"
      ],
      "execution_count": null,
      "outputs": []
    },
    {
      "cell_type": "code",
      "metadata": {
        "colab": {
          "base_uri": "https://localhost:8080/",
          "height": 199
        },
        "id": "NHXHiTZMswHT",
        "outputId": "7a870071-34df-43e1-b989-54f417cccea1"
      },
      "source": [
        "df.head()"
      ],
      "execution_count": null,
      "outputs": [
        {
          "output_type": "execute_result",
          "data": {
            "text/html": [
              "<div>\n",
              "<style scoped>\n",
              "    .dataframe tbody tr th:only-of-type {\n",
              "        vertical-align: middle;\n",
              "    }\n",
              "\n",
              "    .dataframe tbody tr th {\n",
              "        vertical-align: top;\n",
              "    }\n",
              "\n",
              "    .dataframe thead th {\n",
              "        text-align: right;\n",
              "    }\n",
              "</style>\n",
              "<table border=\"1\" class=\"dataframe\">\n",
              "  <thead>\n",
              "    <tr style=\"text-align: right;\">\n",
              "      <th></th>\n",
              "      <th>message</th>\n",
              "      <th>Retweets</th>\n",
              "      <th>Favourites</th>\n",
              "      <th>Datetime</th>\n",
              "      <th>Label</th>\n",
              "    </tr>\n",
              "  </thead>\n",
              "  <tbody>\n",
              "    <tr>\n",
              "      <th>0</th>\n",
              "      <td>.</td>\n",
              "      <td>5050</td>\n",
              "      <td>38215</td>\n",
              "      <td>01-09-2019 15:41</td>\n",
              "      <td>Imran Khan</td>\n",
              "    </tr>\n",
              "    <tr>\n",
              "      <th>1</th>\n",
              "      <td>On behalf of the people of Pakistan and myself...</td>\n",
              "      <td>6952</td>\n",
              "      <td>40890</td>\n",
              "      <td>01-09-2019 14:37</td>\n",
              "      <td>Imran Khan</td>\n",
              "    </tr>\n",
              "    <tr>\n",
              "      <th>2</th>\n",
              "      <td>https://t.co/SBIQ6UHrRD</td>\n",
              "      <td>4276</td>\n",
              "      <td>11630</td>\n",
              "      <td>31-08-2019 06:37</td>\n",
              "      <td>Imran Khan</td>\n",
              "    </tr>\n",
              "    <tr>\n",
              "      <th>3</th>\n",
              "      <td>https://t.co/QmjTDyaGVV</td>\n",
              "      <td>8028</td>\n",
              "      <td>25028</td>\n",
              "      <td>31-08-2019 06:37</td>\n",
              "      <td>Imran Khan</td>\n",
              "    </tr>\n",
              "    <tr>\n",
              "      <th>4</th>\n",
              "      <td>Reports in Indian and international media on M...</td>\n",
              "      <td>11955</td>\n",
              "      <td>30439</td>\n",
              "      <td>31-08-2019 06:03</td>\n",
              "      <td>Imran Khan</td>\n",
              "    </tr>\n",
              "  </tbody>\n",
              "</table>\n",
              "</div>"
            ],
            "text/plain": [
              "                                             message  ...       Label\n",
              "0                                                  .  ...  Imran Khan\n",
              "1  On behalf of the people of Pakistan and myself...  ...  Imran Khan\n",
              "2                            https://t.co/SBIQ6UHrRD  ...  Imran Khan\n",
              "3                            https://t.co/QmjTDyaGVV  ...  Imran Khan\n",
              "4  Reports in Indian and international media on M...  ...  Imran Khan\n",
              "\n",
              "[5 rows x 5 columns]"
            ]
          },
          "metadata": {
            "tags": []
          },
          "execution_count": 20
        }
      ]
    },
    {
      "cell_type": "code",
      "metadata": {
        "id": "rFDLlConKJpD",
        "colab": {
          "base_uri": "https://localhost:8080/"
        },
        "outputId": "a058929d-b005-42f5-93d3-70c770c18952"
      },
      "source": [
        "train_set, test_set, train_label, test_label = train_test_split(df, df['Label'], test_size = 0.2, random_state = 42)\n",
        "# print(\"\\nThe Trainset consists of {} records and {} columns \".format(train_set.shape[0],train_set.shape[1]))\n",
        "# print(\"\\nThe Testset consists of {} records and {} columns \".format(test_set.shape[0],train_set.shape[1]))\n",
        "\n",
        "print(train_label)\n"
      ],
      "execution_count": null,
      "outputs": [
        {
          "output_type": "stream",
          "text": [
            "863     Imran Khan\n",
            "271     Imran Khan\n",
            "1280          Modi\n",
            "1694          Modi\n",
            "1128          Modi\n",
            "           ...    \n",
            "1181          Modi\n",
            "1351          Modi\n",
            "904     Imran Khan\n",
            "1516          Modi\n",
            "1177          Modi\n",
            "Name: Label, Length: 1483, dtype: object\n"
          ],
          "name": "stdout"
        }
      ]
    },
    {
      "cell_type": "code",
      "metadata": {
        "id": "ol6gdrv8LGld",
        "colab": {
          "base_uri": "https://localhost:8080/"
        },
        "outputId": "dd35b8ab-62bd-4233-851c-47c128452c41"
      },
      "source": [
        "from sklearn.feature_extraction.text import CountVectorizer\n",
        "\n",
        "countvect = CountVectorizer(ngram_range = (2,2), )\n",
        "x_counts = countvect.fit(train_set.message)\n",
        "\n",
        "# preparing for training set\n",
        "x_train_df = countvect.transform(train_set.message)\n",
        "\n",
        "# preparing for test set\n",
        "x_test_df = countvect.transform(test_set.message)\n",
        "\n",
        "x_train_df"
      ],
      "execution_count": null,
      "outputs": [
        {
          "output_type": "execute_result",
          "data": {
            "text/plain": [
              "<1483x21985 sparse matrix of type '<class 'numpy.int64'>'\n",
              "\twith 32823 stored elements in Compressed Sparse Row format>"
            ]
          },
          "metadata": {
            "tags": []
          },
          "execution_count": 22
        }
      ]
    },
    {
      "cell_type": "code",
      "metadata": {
        "id": "JcpXyiEVMMTw",
        "colab": {
          "base_uri": "https://localhost:8080/"
        },
        "outputId": "dc4a54b1-36dc-47f2-fac1-f0a109971f2b"
      },
      "source": [
        "\n",
        "\n",
        "clf = MultinomialNB()\n",
        "clf.fit(x_train_df,train_set.Label) "
      ],
      "execution_count": null,
      "outputs": [
        {
          "output_type": "execute_result",
          "data": {
            "text/plain": [
              "MultinomialNB(alpha=1.0, class_prior=None, fit_prior=True)"
            ]
          },
          "metadata": {
            "tags": []
          },
          "execution_count": 23
        }
      ]
    },
    {
      "cell_type": "code",
      "metadata": {
        "id": "3AeA75LaMVU-",
        "colab": {
          "base_uri": "https://localhost:8080/"
        },
        "outputId": "7dd14faf-bbff-4eaf-957c-58659779b809"
      },
      "source": [
        "predicted_values_NB = clf.predict(x_test_df)\n",
        "accuracy = round((accuracy_score(test_set.Label, predicted_values_NB) *100),10)\n",
        "print(\"The accuracy of Naive Bayes clasifier is {}%\".format(accuracy))\n"
      ],
      "execution_count": null,
      "outputs": [
        {
          "output_type": "stream",
          "text": [
            "The accuracy of Naive Bayes clasifier is 81.1320754717%\n"
          ],
          "name": "stdout"
        }
      ]
    }
  ]
}